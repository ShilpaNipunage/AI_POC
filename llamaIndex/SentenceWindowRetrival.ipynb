{
 "cells": [
  {
   "cell_type": "code",
   "execution_count": 1,
   "id": "b6a49c34-db8e-496b-a6be-3480f9770ba2",
   "metadata": {},
   "outputs": [],
   "source": [
    "!pip install -qU langchain-groq\n",
    "#!pip install -qU llama-index-embeddings-huggingface\n",
    "!pip install -qU llama-index llama-index-embeddings-huggingface\n",
    "# !pip uninstall torch\n",
    "# !pip install -qU torch"
   ]
  },
  {
   "cell_type": "code",
   "execution_count": 2,
   "id": "b9df1764-d59f-48bf-af46-8ea02c769fc8",
   "metadata": {},
   "outputs": [],
   "source": [
    "import sys\n",
    "sys.path.append(\"C:\\\\Users\\\\shilpa.annadata\\\\OneDrive - Calsoft Pvt Ltd\\\\Documents\\\\Office\\\\Projects\\\\common\")\n",
    "from utils import load_secrets\n",
    "load_secrets()"
   ]
  },
  {
   "cell_type": "code",
   "execution_count": 3,
   "id": "8819c41c-28a1-4d79-b18a-1c85b70d10d1",
   "metadata": {},
   "outputs": [],
   "source": [
    "from langchain_groq import ChatGroq\n",
    "\n",
    "llm = ChatGroq(\n",
    "    model=\"llama3-8b-8192\",\n",
    "    temperature=0,\n",
    "    max_tokens=None,\n",
    "    timeout=None,\n",
    "    max_retries=2,\n",
    "    model_kwargs={\"top_p\" : 0.9}\n",
    "    # other params...\n",
    ")"
   ]
  },
  {
   "cell_type": "code",
   "execution_count": 4,
   "id": "ca07d3fb-d7ad-4142-8587-e3cf9fcfd12f",
   "metadata": {},
   "outputs": [
    {
     "name": "stderr",
     "output_type": "stream",
     "text": [
      "[nltk_data] Downloading package punkt_tab to\n",
      "[nltk_data]     C:\\Users\\shilpa.annadata\\AppData\\Local\\anaconda3\\Lib\\s\n",
      "[nltk_data]     ite-packages\\llama_index\\core\\_static/nltk_cache...\n",
      "[nltk_data]   Package punkt_tab is already up-to-date!\n"
     ]
    },
    {
     "data": {
      "text/plain": [
       "41"
      ]
     },
     "execution_count": 4,
     "metadata": {},
     "output_type": "execute_result"
    }
   ],
   "source": [
    "from llama_index.core import SimpleDirectoryReader\n",
    "\n",
    "documents = SimpleDirectoryReader(\n",
    "    input_files = [\"c:\\\\Users\\\\shilpa.annadata\\\\Downloads\\\\eBook-How-to-Build-a-Career-in-AI.pdf\"]\n",
    ").load_data()\n",
    "\n",
    "len(documents)"
   ]
  },
  {
   "cell_type": "code",
   "execution_count": 13,
   "id": "f1a6d7de-1654-474d-9cac-6979da8fa7a8",
   "metadata": {},
   "outputs": [
    {
     "name": "stdout",
     "output_type": "stream",
     "text": [
      "<class 'list'>\n",
      "<class 'llama_index.core.schema.Document'>\n",
      "Doc ID: 50f250db-830c-42d4-9121-5606bc793309\n",
      "Text: PAGE 1Founder, DeepLearning.AICollected Insights from Andrew Ng\n",
      "How to  Build Your Career in AIA Simple Guide\n"
     ]
    }
   ],
   "source": [
    "print(type(documents))\n",
    "print(type(documents[0]))\n",
    "print(documents[0])"
   ]
  },
  {
   "cell_type": "code",
   "execution_count": 4,
   "id": "c44fb446-edea-40cb-bd6e-350af8230442",
   "metadata": {},
   "outputs": [],
   "source": [
    "from llama_index.core import Document\n",
    "\n",
    "#Merge into a single document for Advanced Retrieval methods\n",
    "document = Document(text = \"\\n\\n\".join([doc.text for doc in documents]))"
   ]
  },
  {
   "cell_type": "markdown",
   "id": "61dd1cfb-c0b0-4c26-ad17-41343c25e5cf",
   "metadata": {},
   "source": [
    "### Window-Sentence Retrieval"
   ]
  },
  {
   "cell_type": "code",
   "execution_count": 5,
   "id": "610c7827-46b0-4802-91da-bc0a22e9e693",
   "metadata": {},
   "outputs": [],
   "source": [
    "from llama_index.core.node_parser import SentenceWindowNodeParser\n",
    "\n",
    "#Using default params\n",
    "node_parser = SentenceWindowNodeParser.from_defaults(\n",
    "    window_size = 2,\n",
    "    window_metadata_key = \"window\",\n",
    "    original_text_metadata_key = \"original_text\"\n",
    ")"
   ]
  },
  {
   "cell_type": "code",
   "execution_count": 40,
   "id": "f5ad200e-2b91-4dcb-afaa-e3ea4d8363d4",
   "metadata": {},
   "outputs": [
    {
     "name": "stdout",
     "output_type": "stream",
     "text": [
      "no of nodes: 4, \n",
      " nodes:[TextNode(id_='a79b2029-1aad-45c2-8960-1ddd2e555e43', embedding=None, metadata={'window': 'Hello.  how are you?  I am fine. ', 'original_text': 'Hello. '}, excluded_embed_metadata_keys=['window', 'original_text'], excluded_llm_metadata_keys=['window', 'original_text'], relationships={<NodeRelationship.SOURCE: '1'>: RelatedNodeInfo(node_id='37a521f1-e50f-419c-94e1-e51d52c995b6', node_type=<ObjectType.DOCUMENT: '4'>, metadata={}, hash='e21d8e3950837eb36e11e59279bfbf2c6d6a140c268ecd505ff0d4329046c7b6'), <NodeRelationship.NEXT: '3'>: RelatedNodeInfo(node_id='6e992805-a856-400d-95af-c34cdc265d11', node_type=<ObjectType.TEXT: '1'>, metadata={'window': 'Hello.  how are you?  I am fine.  Today is a beautiful day. ', 'original_text': 'how are you? '}, hash='10b43df7c731a526cafd12916a6a68c3ba77a0d9b6c61ca4b8805580bfdcba10')}, text='Hello. ', mimetype='text/plain', start_char_idx=0, end_char_idx=7, text_template='{metadata_str}\\n\\n{content}', metadata_template='{key}: {value}', metadata_seperator='\\n'), TextNode(id_='6e992805-a856-400d-95af-c34cdc265d11', embedding=None, metadata={'window': 'Hello.  how are you?  I am fine.  Today is a beautiful day. ', 'original_text': 'how are you? '}, excluded_embed_metadata_keys=['window', 'original_text'], excluded_llm_metadata_keys=['window', 'original_text'], relationships={<NodeRelationship.SOURCE: '1'>: RelatedNodeInfo(node_id='37a521f1-e50f-419c-94e1-e51d52c995b6', node_type=<ObjectType.DOCUMENT: '4'>, metadata={}, hash='e21d8e3950837eb36e11e59279bfbf2c6d6a140c268ecd505ff0d4329046c7b6'), <NodeRelationship.PREVIOUS: '2'>: RelatedNodeInfo(node_id='a79b2029-1aad-45c2-8960-1ddd2e555e43', node_type=<ObjectType.TEXT: '1'>, metadata={'window': 'Hello.  how are you?  I am fine. ', 'original_text': 'Hello. '}, hash='113cb8f54eab2ea0b0625dcfde1725d605040efe5d7eb0654c18cea5a6d16ffa'), <NodeRelationship.NEXT: '3'>: RelatedNodeInfo(node_id='758dd190-af0f-4c4d-8673-80e3a61c6d6e', node_type=<ObjectType.TEXT: '1'>, metadata={'window': 'Hello.  how are you?  I am fine.  Today is a beautiful day. ', 'original_text': 'I am fine. '}, hash='7dfb71a457f03f54292febe1f1a7308590e5ebcb0d04c3d2ed9681345ff67d5e')}, text='how are you? ', mimetype='text/plain', start_char_idx=7, end_char_idx=20, text_template='{metadata_str}\\n\\n{content}', metadata_template='{key}: {value}', metadata_seperator='\\n'), TextNode(id_='758dd190-af0f-4c4d-8673-80e3a61c6d6e', embedding=None, metadata={'window': 'Hello.  how are you?  I am fine.  Today is a beautiful day. ', 'original_text': 'I am fine. '}, excluded_embed_metadata_keys=['window', 'original_text'], excluded_llm_metadata_keys=['window', 'original_text'], relationships={<NodeRelationship.SOURCE: '1'>: RelatedNodeInfo(node_id='37a521f1-e50f-419c-94e1-e51d52c995b6', node_type=<ObjectType.DOCUMENT: '4'>, metadata={}, hash='e21d8e3950837eb36e11e59279bfbf2c6d6a140c268ecd505ff0d4329046c7b6'), <NodeRelationship.PREVIOUS: '2'>: RelatedNodeInfo(node_id='6e992805-a856-400d-95af-c34cdc265d11', node_type=<ObjectType.TEXT: '1'>, metadata={'window': 'Hello.  how are you?  I am fine.  Today is a beautiful day. ', 'original_text': 'how are you? '}, hash='10b43df7c731a526cafd12916a6a68c3ba77a0d9b6c61ca4b8805580bfdcba10'), <NodeRelationship.NEXT: '3'>: RelatedNodeInfo(node_id='913a03cd-2134-43e8-9272-6c6040590572', node_type=<ObjectType.TEXT: '1'>, metadata={'window': 'how are you?  I am fine.  Today is a beautiful day. ', 'original_text': 'Today is a beautiful day. '}, hash='c773c10ace4abf65eca5de50ca0885925053081a0e0c8e547c9a2b16842f3d5e')}, text='I am fine. ', mimetype='text/plain', start_char_idx=20, end_char_idx=31, text_template='{metadata_str}\\n\\n{content}', metadata_template='{key}: {value}', metadata_seperator='\\n'), TextNode(id_='913a03cd-2134-43e8-9272-6c6040590572', embedding=None, metadata={'window': 'how are you?  I am fine.  Today is a beautiful day. ', 'original_text': 'Today is a beautiful day. '}, excluded_embed_metadata_keys=['window', 'original_text'], excluded_llm_metadata_keys=['window', 'original_text'], relationships={<NodeRelationship.SOURCE: '1'>: RelatedNodeInfo(node_id='37a521f1-e50f-419c-94e1-e51d52c995b6', node_type=<ObjectType.DOCUMENT: '4'>, metadata={}, hash='e21d8e3950837eb36e11e59279bfbf2c6d6a140c268ecd505ff0d4329046c7b6'), <NodeRelationship.PREVIOUS: '2'>: RelatedNodeInfo(node_id='758dd190-af0f-4c4d-8673-80e3a61c6d6e', node_type=<ObjectType.TEXT: '1'>, metadata={'window': 'Hello.  how are you?  I am fine.  Today is a beautiful day. ', 'original_text': 'I am fine. '}, hash='7dfb71a457f03f54292febe1f1a7308590e5ebcb0d04c3d2ed9681345ff67d5e')}, text='Today is a beautiful day. ', mimetype='text/plain', start_char_idx=31, end_char_idx=57, text_template='{metadata_str}\\n\\n{content}', metadata_template='{key}: {value}', metadata_seperator='\\n')]\n"
     ]
    }
   ],
   "source": [
    "text = \"Hello. how are you? I am fine. Today is a beautiful day. \"\n",
    "nodes = node_parser.get_nodes_from_documents([Document(text = text)])\n",
    "print(f\"no of nodes: {len(nodes)}, \\n nodes:{nodes}\")"
   ]
  },
  {
   "cell_type": "code",
   "execution_count": 25,
   "id": "7fec07e8-e342-4dac-907b-73b645b33b41",
   "metadata": {},
   "outputs": [
    {
     "name": "stdout",
     "output_type": "stream",
     "text": [
      "<generator object <genexpr> at 0x0000024DFDF54700>\n"
     ]
    }
   ],
   "source": [
    "print(x.text for x in nodes)"
   ]
  },
  {
   "cell_type": "code",
   "execution_count": 41,
   "id": "cd4f2385-8ff0-4066-9b90-50d279a4e6dd",
   "metadata": {},
   "outputs": [
    {
     "name": "stdout",
     "output_type": "stream",
     "text": [
      "['Hello. ', 'how are you? ', 'I am fine. ', 'Today is a beautiful day. ']\n"
     ]
    }
   ],
   "source": [
    "print([x.text for x in nodes])"
   ]
  },
  {
   "cell_type": "code",
   "execution_count": 42,
   "id": "985f57d4-60e0-413a-8d95-ff284f2eefe9",
   "metadata": {},
   "outputs": [
    {
     "name": "stdout",
     "output_type": "stream",
     "text": [
      "Hello.  how are you?  I am fine.  Today is a beautiful day. \n"
     ]
    }
   ],
   "source": [
    "print(nodes[1].metadata[\"window\"])"
   ]
  },
  {
   "cell_type": "code",
   "execution_count": 43,
   "id": "72c65db0-d392-4483-a486-2b411695cae1",
   "metadata": {},
   "outputs": [
    {
     "name": "stdout",
     "output_type": "stream",
     "text": [
      "Hello.  how are you?  I am fine. \n"
     ]
    }
   ],
   "source": [
    "print(nodes[0].metadata[\"window\"])"
   ]
  },
  {
   "cell_type": "code",
   "execution_count": 44,
   "id": "8676ad8d-8c90-44c2-a709-b1c31a6fe7f2",
   "metadata": {},
   "outputs": [
    {
     "name": "stdout",
     "output_type": "stream",
     "text": [
      "Hello.  how are you?  I am fine.  Today is a beautiful day. \n"
     ]
    }
   ],
   "source": [
    "print(nodes[2].metadata[\"window\"])"
   ]
  },
  {
   "cell_type": "code",
   "execution_count": 45,
   "id": "a3c244a9-fc1e-4ff1-b237-f7df23cbcefc",
   "metadata": {},
   "outputs": [
    {
     "name": "stdout",
     "output_type": "stream",
     "text": [
      "how are you?  I am fine.  Today is a beautiful day. \n"
     ]
    }
   ],
   "source": [
    "print(nodes[3].metadata[\"window\"])"
   ]
  },
  {
   "cell_type": "code",
   "execution_count": 9,
   "id": "143ed3fb-f5ea-4833-9e0d-62c0dbe4476d",
   "metadata": {},
   "outputs": [
    {
     "ename": "OSError",
     "evalue": "[WinError 126] The specified module could not be found. Error loading \"C:\\Users\\shilpa.annadata\\AppData\\Local\\anaconda3\\Lib\\site-packages\\torch\\lib\\fbgemm.dll\" or one of its dependencies.",
     "output_type": "error",
     "traceback": [
      "\u001b[1;31m---------------------------------------------------------------------------\u001b[0m",
      "\u001b[1;31mOSError\u001b[0m                                   Traceback (most recent call last)",
      "Cell \u001b[1;32mIn[9], line 2\u001b[0m\n\u001b[0;32m      1\u001b[0m \u001b[38;5;28;01mfrom\u001b[39;00m \u001b[38;5;21;01mllama_index\u001b[39;00m\u001b[38;5;21;01m.\u001b[39;00m\u001b[38;5;21;01mcore\u001b[39;00m \u001b[38;5;28;01mimport\u001b[39;00m Settings\n\u001b[1;32m----> 2\u001b[0m \u001b[38;5;28;01mfrom\u001b[39;00m \u001b[38;5;21;01mllama_index\u001b[39;00m\u001b[38;5;21;01m.\u001b[39;00m\u001b[38;5;21;01membeddings\u001b[39;00m\u001b[38;5;21;01m.\u001b[39;00m\u001b[38;5;21;01mhuggingface\u001b[39;00m \u001b[38;5;28;01mimport\u001b[39;00m HuggingFaceEmbedding\n\u001b[0;32m      4\u001b[0m Settings\u001b[38;5;241m.\u001b[39mllm \u001b[38;5;241m=\u001b[39m llm\n\u001b[0;32m      5\u001b[0m Settings\u001b[38;5;241m.\u001b[39membed_model \u001b[38;5;241m=\u001b[39m HuggingFaceEmbedding(model_name\u001b[38;5;241m=\u001b[39m\u001b[38;5;124m\"\u001b[39m\u001b[38;5;124mBAAI/bge-small-en-v1.5\u001b[39m\u001b[38;5;124m\"\u001b[39m)\n",
      "File \u001b[1;32m~\\AppData\\Local\\anaconda3\\Lib\\site-packages\\llama_index\\embeddings\\huggingface\\__init__.py:1\u001b[0m\n\u001b[1;32m----> 1\u001b[0m \u001b[38;5;28;01mfrom\u001b[39;00m \u001b[38;5;21;01mllama_index\u001b[39;00m\u001b[38;5;21;01m.\u001b[39;00m\u001b[38;5;21;01membeddings\u001b[39;00m\u001b[38;5;21;01m.\u001b[39;00m\u001b[38;5;21;01mhuggingface\u001b[39;00m\u001b[38;5;21;01m.\u001b[39;00m\u001b[38;5;21;01mbase\u001b[39;00m \u001b[38;5;28;01mimport\u001b[39;00m (\n\u001b[0;32m      2\u001b[0m     HuggingFaceEmbedding,\n\u001b[0;32m      3\u001b[0m     HuggingFaceInferenceAPIEmbedding,\n\u001b[0;32m      4\u001b[0m     HuggingFaceInferenceAPIEmbeddings,\n\u001b[0;32m      5\u001b[0m )\n\u001b[0;32m      7\u001b[0m __all__ \u001b[38;5;241m=\u001b[39m [\n\u001b[0;32m      8\u001b[0m     \u001b[38;5;124m\"\u001b[39m\u001b[38;5;124mHuggingFaceEmbedding\u001b[39m\u001b[38;5;124m\"\u001b[39m,\n\u001b[0;32m      9\u001b[0m     \u001b[38;5;124m\"\u001b[39m\u001b[38;5;124mHuggingFaceInferenceAPIEmbedding\u001b[39m\u001b[38;5;124m\"\u001b[39m,\n\u001b[0;32m     10\u001b[0m     \u001b[38;5;124m\"\u001b[39m\u001b[38;5;124mHuggingFaceInferenceAPIEmbeddings\u001b[39m\u001b[38;5;124m\"\u001b[39m,\n\u001b[0;32m     11\u001b[0m ]\n",
      "File \u001b[1;32m~\\AppData\\Local\\anaconda3\\Lib\\site-packages\\llama_index\\embeddings\\huggingface\\base.py:28\u001b[0m\n\u001b[0;32m     20\u001b[0m \u001b[38;5;28;01mfrom\u001b[39;00m \u001b[38;5;21;01mllama_index\u001b[39;00m\u001b[38;5;21;01m.\u001b[39;00m\u001b[38;5;21;01mcore\u001b[39;00m\u001b[38;5;21;01m.\u001b[39;00m\u001b[38;5;21;01mutils\u001b[39;00m \u001b[38;5;28;01mimport\u001b[39;00m get_cache_dir, infer_torch_device\n\u001b[0;32m     21\u001b[0m \u001b[38;5;28;01mfrom\u001b[39;00m \u001b[38;5;21;01mllama_index\u001b[39;00m\u001b[38;5;21;01m.\u001b[39;00m\u001b[38;5;21;01membeddings\u001b[39;00m\u001b[38;5;21;01m.\u001b[39;00m\u001b[38;5;21;01mhuggingface\u001b[39;00m\u001b[38;5;21;01m.\u001b[39;00m\u001b[38;5;21;01mutils\u001b[39;00m \u001b[38;5;28;01mimport\u001b[39;00m (\n\u001b[0;32m     22\u001b[0m     DEFAULT_HUGGINGFACE_EMBEDDING_MODEL,\n\u001b[0;32m     23\u001b[0m     format_query,\n\u001b[1;32m   (...)\u001b[0m\n\u001b[0;32m     26\u001b[0m     get_text_instruct_for_model_name,\n\u001b[0;32m     27\u001b[0m )\n\u001b[1;32m---> 28\u001b[0m \u001b[38;5;28;01mfrom\u001b[39;00m \u001b[38;5;21;01msentence_transformers\u001b[39;00m \u001b[38;5;28;01mimport\u001b[39;00m SentenceTransformer\n\u001b[0;32m     30\u001b[0m DEFAULT_HUGGINGFACE_LENGTH \u001b[38;5;241m=\u001b[39m \u001b[38;5;241m512\u001b[39m\n\u001b[0;32m     31\u001b[0m logger \u001b[38;5;241m=\u001b[39m logging\u001b[38;5;241m.\u001b[39mgetLogger(\u001b[38;5;18m__name__\u001b[39m)\n",
      "File \u001b[1;32m~\\AppData\\Local\\anaconda3\\Lib\\site-packages\\sentence_transformers\\__init__.py:7\u001b[0m\n\u001b[0;32m      4\u001b[0m \u001b[38;5;28;01mimport\u001b[39;00m \u001b[38;5;21;01mimportlib\u001b[39;00m\n\u001b[0;32m      5\u001b[0m \u001b[38;5;28;01mimport\u001b[39;00m \u001b[38;5;21;01mos\u001b[39;00m\n\u001b[1;32m----> 7\u001b[0m \u001b[38;5;28;01mfrom\u001b[39;00m \u001b[38;5;21;01msentence_transformers\u001b[39;00m\u001b[38;5;21;01m.\u001b[39;00m\u001b[38;5;21;01mcross_encoder\u001b[39;00m\u001b[38;5;21;01m.\u001b[39;00m\u001b[38;5;21;01mCrossEncoder\u001b[39;00m \u001b[38;5;28;01mimport\u001b[39;00m CrossEncoder\n\u001b[0;32m      8\u001b[0m \u001b[38;5;28;01mfrom\u001b[39;00m \u001b[38;5;21;01msentence_transformers\u001b[39;00m\u001b[38;5;21;01m.\u001b[39;00m\u001b[38;5;21;01mdatasets\u001b[39;00m \u001b[38;5;28;01mimport\u001b[39;00m ParallelSentencesDataset, SentencesDataset\n\u001b[0;32m      9\u001b[0m \u001b[38;5;28;01mfrom\u001b[39;00m \u001b[38;5;21;01msentence_transformers\u001b[39;00m\u001b[38;5;21;01m.\u001b[39;00m\u001b[38;5;21;01mLoggingHandler\u001b[39;00m \u001b[38;5;28;01mimport\u001b[39;00m LoggingHandler\n",
      "File \u001b[1;32m~\\AppData\\Local\\anaconda3\\Lib\\site-packages\\sentence_transformers\\cross_encoder\\__init__.py:1\u001b[0m\n\u001b[1;32m----> 1\u001b[0m \u001b[38;5;28;01mfrom\u001b[39;00m \u001b[38;5;21;01m.\u001b[39;00m\u001b[38;5;21;01mCrossEncoder\u001b[39;00m \u001b[38;5;28;01mimport\u001b[39;00m CrossEncoder\n\u001b[0;32m      3\u001b[0m __all__ \u001b[38;5;241m=\u001b[39m [\u001b[38;5;124m\"\u001b[39m\u001b[38;5;124mCrossEncoder\u001b[39m\u001b[38;5;124m\"\u001b[39m]\n",
      "File \u001b[1;32m~\\AppData\\Local\\anaconda3\\Lib\\site-packages\\sentence_transformers\\cross_encoder\\CrossEncoder.py:7\u001b[0m\n\u001b[0;32m      4\u001b[0m \u001b[38;5;28;01mfrom\u001b[39;00m \u001b[38;5;21;01mtyping\u001b[39;00m \u001b[38;5;28;01mimport\u001b[39;00m Callable, Dict, List, Literal, Optional, Tuple, Type, Union\n\u001b[0;32m      6\u001b[0m \u001b[38;5;28;01mimport\u001b[39;00m \u001b[38;5;21;01mnumpy\u001b[39;00m \u001b[38;5;28;01mas\u001b[39;00m \u001b[38;5;21;01mnp\u001b[39;00m\n\u001b[1;32m----> 7\u001b[0m \u001b[38;5;28;01mimport\u001b[39;00m \u001b[38;5;21;01mtorch\u001b[39;00m\n\u001b[0;32m      8\u001b[0m \u001b[38;5;28;01mfrom\u001b[39;00m \u001b[38;5;21;01mtorch\u001b[39;00m \u001b[38;5;28;01mimport\u001b[39;00m Tensor, nn\n\u001b[0;32m      9\u001b[0m \u001b[38;5;28;01mfrom\u001b[39;00m \u001b[38;5;21;01mtorch\u001b[39;00m\u001b[38;5;21;01m.\u001b[39;00m\u001b[38;5;21;01moptim\u001b[39;00m \u001b[38;5;28;01mimport\u001b[39;00m Optimizer\n",
      "File \u001b[1;32m~\\AppData\\Local\\anaconda3\\Lib\\site-packages\\torch\\__init__.py:148\u001b[0m\n\u001b[0;32m    146\u001b[0m                 err \u001b[38;5;241m=\u001b[39m ctypes\u001b[38;5;241m.\u001b[39mWinError(ctypes\u001b[38;5;241m.\u001b[39mget_last_error())\n\u001b[0;32m    147\u001b[0m                 err\u001b[38;5;241m.\u001b[39mstrerror \u001b[38;5;241m+\u001b[39m\u001b[38;5;241m=\u001b[39m \u001b[38;5;124mf\u001b[39m\u001b[38;5;124m'\u001b[39m\u001b[38;5;124m Error loading \u001b[39m\u001b[38;5;124m\"\u001b[39m\u001b[38;5;132;01m{\u001b[39;00mdll\u001b[38;5;132;01m}\u001b[39;00m\u001b[38;5;124m\"\u001b[39m\u001b[38;5;124m or one of its dependencies.\u001b[39m\u001b[38;5;124m'\u001b[39m\n\u001b[1;32m--> 148\u001b[0m                 \u001b[38;5;28;01mraise\u001b[39;00m err\n\u001b[0;32m    150\u001b[0m     kernel32\u001b[38;5;241m.\u001b[39mSetErrorMode(prev_error_mode)\n\u001b[0;32m    153\u001b[0m \u001b[38;5;28;01mdef\u001b[39;00m \u001b[38;5;21m_preload_cuda_deps\u001b[39m(lib_folder, lib_name):\n",
      "\u001b[1;31mOSError\u001b[0m: [WinError 126] The specified module could not be found. Error loading \"C:\\Users\\shilpa.annadata\\AppData\\Local\\anaconda3\\Lib\\site-packages\\torch\\lib\\fbgemm.dll\" or one of its dependencies."
     ]
    }
   ],
   "source": [
    "from llama_index.core import Settings\n",
    "from llama_index.embeddings.huggingface import HuggingFaceEmbedding\n",
    "\n",
    "Settings.llm = llm\n",
    "Settings.embed_model = HuggingFaceEmbedding(model_name=\"BAAI/bge-small-en-v1.5\")\n",
    "Settings.node_parser = node_parser"
   ]
  },
  {
   "cell_type": "code",
   "execution_count": null,
   "id": "b22f365a-7c9a-49aa-9709-caa32e0348d3",
   "metadata": {},
   "outputs": [],
   "source": []
  },
  {
   "cell_type": "code",
   "execution_count": null,
   "id": "43a0b9a3-0acf-4e22-be8d-d936bf3c1023",
   "metadata": {},
   "outputs": [],
   "source": []
  },
  {
   "cell_type": "code",
   "execution_count": null,
   "id": "8a00d1b9-0dff-4d66-a152-35b9c44ede41",
   "metadata": {},
   "outputs": [],
   "source": []
  },
  {
   "cell_type": "code",
   "execution_count": null,
   "id": "c767963c-7936-45b5-96d6-405d9516ad73",
   "metadata": {},
   "outputs": [],
   "source": []
  }
 ],
 "metadata": {
  "kernelspec": {
   "display_name": "Python 3 (ipykernel)",
   "language": "python",
   "name": "python3"
  },
  "language_info": {
   "codemirror_mode": {
    "name": "ipython",
    "version": 3
   },
   "file_extension": ".py",
   "mimetype": "text/x-python",
   "name": "python",
   "nbconvert_exporter": "python",
   "pygments_lexer": "ipython3",
   "version": "3.12.4"
  }
 },
 "nbformat": 4,
 "nbformat_minor": 5
}
