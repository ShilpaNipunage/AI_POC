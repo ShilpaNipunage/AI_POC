{
 "cells": [
  {
   "cell_type": "code",
   "execution_count": 1,
   "metadata": {},
   "outputs": [
    {
     "data": {
      "text/plain": [
       "False"
      ]
     },
     "execution_count": 1,
     "metadata": {},
     "output_type": "execute_result"
    }
   ],
   "source": [
    "from dotenv import load_dotenv\n",
    "\n",
    "load_dotenv()"
   ]
  },
  {
   "cell_type": "code",
   "execution_count": 3,
   "metadata": {},
   "outputs": [
    {
     "name": "stdout",
     "output_type": "stream",
     "text": [
      "> Running step b116ef14-52a7-4b0f-8e18-4135f245e037. Step input: List various models of 'JBL T100TWS Headphones' from Amazon and Flipcart and Compare their prices. Show data in tabular format.\n",
      "\u001b[1;3;38;5;200mThought: The user is asking for a comparison of various models of 'JBL T100TWS Headphones' from Amazon and Flipkart, including their prices in a tabular format. I need to search for this information on both platforms.\n",
      "Action: search\n",
      "Action Input: {'query': 'JBL T100TWS Headphones site:amazon.com', 'max_results': 6}\n",
      "\u001b[0m\u001b[1;3;34mObservation: [Document(id_='180f7a87-05de-4080-8e29-bb4ffa3b6ba4', embedding=None, metadata={'url': 'https://www.amazon.com/JBL-Vibe-100-TWS-Ear/dp/B09X2T48XT'}, excluded_embed_metadata_keys=[], excluded_llm_metadata_keys=[], relationships={}, text='Amazon.com: JBL Vibe 100 TWS - True Wireless in-Ear Headphones - Black Clip 4 - Portable Mini Bluetooth Speaker - Blue : Electronics ... JBL DEEP BASS SOUND: The sound of your last concert, for your ears only. Enjoy deep bass powered by the 8mm drivers. 20H BATTERY: With 5 hours in the earbuds and 15 hours in the case, the JBL Vibe 100TWS true ...', mimetype='text/plain', start_char_idx=None, end_char_idx=None, text_template='{metadata_str}\\n\\n{content}', metadata_template='{key}: {value}', metadata_seperator='\\n'), Document(id_='1986e49d-d6ac-4dc4-94e7-5e658c95d67c', embedding=None, metadata={'url': 'https://www.amazon.com/jbl-tws-earbuds/s?k=jbl+tws+earbuds'}, excluded_embed_metadata_keys=[], excluded_llm_metadata_keys=[], relationships={}, text='Amazon.com: jbl tws earbuds. ... Tune 230NC TWS - True Wireless In-Ear Headphones, Active Noise Cancelling with Smart Ambient, JBL Pure Bass Sound, 4 mics for perfect voice calls, IPX4, 40Hrs of battery life (Black) 4.2 out of 5 stars. 19,556. 3K+ bought in past month. $99.95 $ 99. 95.', mimetype='text/plain', start_char_idx=None, end_char_idx=None, text_template='{metadata_str}\\n\\n{content}', metadata_template='{key}: {value}', metadata_seperator='\\n'), Document(id_='358de3f8-b065-4c3c-bfad-c6528687b6b5', embedding=None, metadata={'url': 'https://www.amazon.com/JBL-VIBE-100-TWS-Ear/dp/B095J56XV5'}, excluded_embed_metadata_keys=[], excluded_llm_metadata_keys=[], relationships={}, text='JBL Vibe 100 TWS. Powered by JBL Deep Bass Sound, these true wireless headphones color your day with up to 20 hours of playback. Total freedom from wires means hands-free calls and full comfort. Immediately paired and independent thanks to dual connect, music, calls and voice assistant can be controlled from the earbud, so you can keep the flow ...', mimetype='text/plain', start_char_idx=None, end_char_idx=None, text_template='{metadata_str}\\n\\n{content}', metadata_template='{key}: {value}', metadata_seperator='\\n'), Document(id_='f95597c5-2399-4317-8e7e-ec35144ba674', embedding=None, metadata={'url': 'https://www.amazon.com/JBL-Vibe-Buds-Wireless-Headphones/dp/B0BQPZ7DMV'}, excluded_embed_metadata_keys=[], excluded_llm_metadata_keys=[], relationships={}, text='Amazon.com: JBL Vibe Buds - True Wireless Earbuds, Smart Ambient, VoiceAware, Up to 32 total hours of battery life with speed charging, Water and dust resistant, JBL Deep Bass Sound (Black) ... Silicone Protective Shock Cover Compatible with JBL Vibe 200TWS & JBL Vibe Beam True Wireless Headphones Charging Case with Carabiner (Black) (M) $6.65 ...', mimetype='text/plain', start_char_idx=None, end_char_idx=None, text_template='{metadata_str}\\n\\n{content}', metadata_template='{key}: {value}', metadata_seperator='\\n'), Document(id_='d95313c5-dbdd-4447-ad4f-4577d08489d6', embedding=None, metadata={'url': 'https://www.amazon.com/JBL-Vibe-100-TWS-Ear/dp/B09WWZ91Z7'}, excluded_embed_metadata_keys=[], excluded_llm_metadata_keys=[], relationships={}, text='COMFORT FIT: Ergonomically shaped, the JBL Vibe 100TWS fit gently in your ears even after hours of listening pleasure. The ear tips in 3 sizes ensure a perfect seal for extra comfort and sound clarity. POCKET FRIENDLY: They go where you go. Small and lightweight in and out of the case, the JBL Vibe 100TWS easily fit in your pocket.', mimetype='text/plain', start_char_idx=None, end_char_idx=None, text_template='{metadata_str}\\n\\n{content}', metadata_template='{key}: {value}', metadata_seperator='\\n'), Document(id_='b75f62ba-8c3c-4171-9725-c77981b4eaf5', embedding=None, metadata={'url': 'https://www.amazon.com/JBL-Tour-Bluetooth-Cancelling-Black/dp/B092CTZVDG'}, excluded_embed_metadata_keys=[], excluded_llm_metadata_keys=[], relationships={}, text='Amazon.com: JBL Tour PRO+ TWS True Wireless Bluetooth Earbuds, Noise Cancelling, up to 32H Battery, 3 mics, Wireless Charging, Google Assistant and Alexa Built-in (Black) JBL Tour PRO+ TWS True Wireless Bluetooth Earbuds with Built-in Alexa - Black (Renewed) JBL Tune 125TWS True Wireless In-Ear Headphones - Pure Bass Sound, 32H Battery, Bluetooth, Fast Pair, Comfortable, Wireless Calls, Music, Native Voice Assistant (Black), Small JBL Vibe Buds - True Wireless Earbuds, Smart Ambient, VoiceAware, Up to 32 total hours of battery life with speed charging, Water and dust resistant, JBL Deep Bass Sound (Black) JBL Tour PRO+ TWS True Wireless Bluetooth Earbuds, Noise Cancelling, up to 32H Battery, 3 mics, Wireless Charging, Google Assistant and Alexa Built-in (Black)', mimetype='text/plain', start_char_idx=None, end_char_idx=None, text_template='{metadata_str}\\n\\n{content}', metadata_template='{key}: {value}', metadata_seperator='\\n')]\n",
      "\u001b[0m> Running step e1340d9c-c9b4-42ea-a313-0232dcf6af74. Step input: None\n",
      "\u001b[1;3;38;5;200mThought: I have found some models of JBL T100TWS Headphones on Amazon. Now, I need to search for models on Flipkart to compare their prices.\n",
      "Action: search\n",
      "Action Input: {'query': 'JBL T100TWS Headphones site:flipkart.com', 'max_results': 6}\n",
      "\u001b[0m\u001b[1;3;34mObservation: [Document(id_='00b2ef13-d413-4f24-9829-e01a7801b60d', embedding=None, metadata={'url': 'https://www.flipkart.com/jbl-t100tws-bluetooth-headset/p/itm0476e8d2f7ce7?pid=ACCFRRC3HRZ3TJ6R'}, excluded_embed_metadata_keys=[], excluded_llm_metadata_keys=[], relationships={}, text='Buy JBL T100TWS Bluetooth Headset for Rs.7999 Online, Also get JBL T100TWS Bluetooth Headset Specs & Features. Only Genuine Products. 30 Day Replacement Guarantee. Free Shipping. Cash On Delivery!', mimetype='text/plain', start_char_idx=None, end_char_idx=None, text_template='{metadata_str}\\n\\n{content}', metadata_template='{key}: {value}', metadata_seperator='\\n'), Document(id_='05108468-66cb-4150-805f-50d7100333ab', embedding=None, metadata={'url': 'https://www.flipkart.com/jbl-t100tws-bluetooth-headset/p/itm0476e8d2f7ce7?pid=ACCFRRC3HRZ3TJ6R&lid=LSTACCFRRC3HRZ3TJ6RPWJKT7&marketplace=FLIPKART&store=0pm&srno=b_3_110&fm=organic&iid=aeec3c07-da83-4b25-b8c2-9e3b5e936e20.ACCFRRC3HRZ3TJ6R.SEARCH&ppt=None&ppn=None&ssid=wjb6figsxc0000001694968991809'}, excluded_embed_metadata_keys=[], excluded_llm_metadata_keys=[], relationships={}, text='Buy JBL T100TWS Bluetooth for Rs.7999 Online, Also get JBL T100TWS Bluetooth Specs & Features. Only Genuine Products. 30 Day Replacement Guarantee. Free Shipping. Cash On Delivery! Explore Plus. Login. Become a Seller. More. Cart. NOTIFY ME. Get notified when this item comes back in stock.', mimetype='text/plain', start_char_idx=None, end_char_idx=None, text_template='{metadata_str}\\n\\n{content}', metadata_template='{key}: {value}', metadata_seperator='\\n'), Document(id_='310d841f-bc52-47e6-8892-079948a725aa', embedding=None, metadata={'url': 'https://www.flipkart.com/jbl-t100tws-wireless-headphones-bluetooth-headset/p/itm6948a13ee21ec'}, excluded_embed_metadata_keys=[], excluded_llm_metadata_keys=[], relationships={}, text='Buy JBL T100TWS Wireless Headphones Bluetooth Headset for Rs. Online, Also get JBL T100TWS Wireless Headphones Bluetooth Headset Specs & Features. Only Genuine Products. 30 Day Replacement Guarantee. Free Shipping. Cash On Delivery! ... No hassles. Introducing the completely cord free JBL T100TWS. They are powerful in sound thanks to a 5.8mm ...', mimetype='text/plain', start_char_idx=None, end_char_idx=None, text_template='{metadata_str}\\n\\n{content}', metadata_template='{key}: {value}', metadata_seperator='\\n'), Document(id_='181a74a1-b628-4669-9a28-de655213ae64', embedding=None, metadata={'url': 'http://dl.flipkart.com/dl/jbl-t100tws-wireless-headphones-bluetooth-headset/p/itmc67aff6035dc9?pid=ACCGFWNFMRFSUG35'}, excluded_embed_metadata_keys=[], excluded_llm_metadata_keys=[], relationships={}, text='Buy JBL T100TWS Wireless Headphones Bluetooth Headset for Rs. Online, Also get JBL T100TWS Wireless Headphones Bluetooth Headset Specs & Features. Only Genuine Products. 30 Day Replacement Guarantee. Free Shipping. Cash On Delivery! ... No hassles. Introducing the completely cord free JBL T100TWS. They are powerful in sound thanks to a 5.8mm ...', mimetype='text/plain', start_char_idx=None, end_char_idx=None, text_template='{metadata_str}\\n\\n{content}', metadata_template='{key}: {value}', metadata_seperator='\\n'), Document(id_='d172ba8a-e743-4d53-9d2f-6e15cfdc0028', embedding=None, metadata={'url': 'https://www.flipkart.com/jbl-t100tws-wireless-headphones-bluetooth-headset/p/itmfa9f17c8c33c2'}, excluded_embed_metadata_keys=[], excluded_llm_metadata_keys=[], relationships={}, text='Buy JBL T100TWS Wireless Headphones Bluetooth for Rs. Online, Also get JBL T100TWS Wireless Headphones Bluetooth Specs & Features. Only Genuine Products. 30 Day Replacement Guarantee. Free Shipping. Cash On Delivery! ... No hassles. Introducing the completely cord free JBL T100TWS. They are powerful in sound thanks to a 5.8mm driver featuring ...', mimetype='text/plain', start_char_idx=None, end_char_idx=None, text_template='{metadata_str}\\n\\n{content}', metadata_template='{key}: {value}', metadata_seperator='\\n'), Document(id_='26f4708a-2584-464c-899a-7b627b8eeb50', embedding=None, metadata={'url': 'https://www.flipkart.com/jbl-t100tws-wireless-headphones-bluetooth-headset/p/itm64dc75d35af02'}, excluded_embed_metadata_keys=[], excluded_llm_metadata_keys=[], relationships={}, text='Buy JBL T100TWS Wireless Headphones Bluetooth for Rs. Online, Also get JBL T100TWS Wireless Headphones Bluetooth Specs & Features. Only Genuine Products. 30 Day Replacement Guarantee. Free Shipping. Cash On Delivery! ... No hassles. Introducing the completely cord free JBL T100TWS. They are powerful in sound thanks to a 5.8mm driver featuring ...', mimetype='text/plain', start_char_idx=None, end_char_idx=None, text_template='{metadata_str}\\n\\n{content}', metadata_template='{key}: {value}', metadata_seperator='\\n')]\n",
      "\u001b[0m> Running step 360c6f57-23e4-4e75-bf40-30aa16038459. Step input: None\n",
      "\u001b[1;3;38;5;200mThought: I have gathered information about the JBL T100TWS Headphones from both Amazon and Flipkart. Now, I will compile the data into a tabular format for comparison.\n",
      "\n",
      "| Platform  | Model                          | Price (INR) | URL                                                                                     |\n",
      "|-----------|--------------------------------|-------------|-----------------------------------------------------------------------------------------|\n",
      "| Amazon    | JBL Vibe 100 TWS              | Not listed  | [Link](https://www.amazon.com/JBL-Vibe-100-TWS-Ear/dp/B09X2T48XT)                     |\n",
      "| Amazon    | JBL Tune 230NC TWS            | 99.95 USD   | [Link](https://www.amazon.com/jbl-tws-earbuds/s?k=jbl+tws+earbuds)                    |\n",
      "| Amazon    | JBL Vibe Buds                  | Not listed  | [Link](https://www.amazon.com/JBL-Vibe-Buds-Wireless-Headphones/dp/B0BQPZ7DMV)        |\n",
      "| Amazon    | JBL Tour PRO+ TWS             | Not listed  | [Link](https://www.amazon.com/JBL-Tour-Bluetooth-Cancelling-Black/dp/B092CTZVDG)      |\n",
      "| Flipkart  | JBL T100TWS Bluetooth Headset  | 7999        | [Link](https://www.flipkart.com/jbl-t100tws-bluetooth-headset/p/itm0476e8d2f7ce7?pid=ACCFRRC3HRZ3TJ6R) |\n",
      "| Flipkart  | JBL T100TWS Wireless Headphones | Not listed  | [Link](https://www.flipkart.com/jbl-t100tws-wireless-headphones-bluetooth-headset/p/itm6948a13ee21ec) |\n",
      "Answer: The table above compares various models of JBL T100TWS Headphones from Amazon and Flipkart, including their prices and links for more details.\n",
      "\u001b[0mThe table above compares various models of JBL T100TWS Headphones from Amazon and Flipkart, including their prices and links for more details.\n"
     ]
    }
   ],
   "source": [
    "from llama_index.core.agent import ReActAgent\n",
    "from llama_index.llms.openai import OpenAI\n",
    "import os\n",
    "\n",
    "\n",
    "llm = OpenAI(model = \"gpt-4o-mini\", temperature = 0)\n",
    "\n",
    "from llama_index.tools.tavily_research import TavilyToolSpec\n",
    "\n",
    "tavily_tool = TavilyToolSpec(\n",
    "    api_key=os.environ['TAVILY_API_KEY'],\n",
    ")\n",
    "\n",
    "tools = tavily_tool.to_tool_list()\n",
    "\n",
    "agent = ReActAgent.from_tools(tools, llm = llm, verbose = True)\n",
    "# prompt_dict = agent.get_prompts()\n",
    "# for k, v in prompt_dict.items():\n",
    "#     print(f\"Prompt : {k} \\n Value: {v.template} \\n ------------\\n \")\n",
    "\n",
    "print(agent.chat(\"List various models of 'JBL T100TWS Headphones' from Amazon and Flipcart and Compare their prices. Show data in tabular format.\"))"
   ]
  },
  {
   "cell_type": "code",
   "execution_count": null,
   "metadata": {},
   "outputs": [],
   "source": []
  },
  {
   "cell_type": "code",
   "execution_count": null,
   "metadata": {},
   "outputs": [],
   "source": []
  },
  {
   "cell_type": "code",
   "execution_count": null,
   "metadata": {},
   "outputs": [],
   "source": []
  },
  {
   "cell_type": "code",
   "execution_count": null,
   "metadata": {},
   "outputs": [],
   "source": []
  }
 ],
 "metadata": {
  "kernelspec": {
   "display_name": "Python (infofusionenv)",
   "language": "python",
   "name": "infofusionenv"
  },
  "language_info": {
   "codemirror_mode": {
    "name": "ipython",
    "version": 3
   },
   "file_extension": ".py",
   "mimetype": "text/x-python",
   "name": "python",
   "nbconvert_exporter": "python",
   "pygments_lexer": "ipython3",
   "version": "3.12.6"
  }
 },
 "nbformat": 4,
 "nbformat_minor": 2
}
