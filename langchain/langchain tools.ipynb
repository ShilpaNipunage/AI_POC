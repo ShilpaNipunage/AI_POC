{
 "cells": [
  {
   "cell_type": "code",
   "execution_count": 5,
   "id": "be4cf191-3607-4409-922a-de2560f1e44e",
   "metadata": {},
   "outputs": [],
   "source": [
    "!pip install -qU langchain-community langchain duckduckgo-search langchain-groq"
   ]
  },
  {
   "cell_type": "code",
   "execution_count": 3,
   "id": "37751e63-1dc8-4916-8d19-40e1fc2fe4ff",
   "metadata": {},
   "outputs": [],
   "source": [
    "import sys\n",
    "sys.path.append(\"C:\\\\Users\\\\shilpa.annadata\\\\OneDrive - Calsoft Pvt Ltd\\\\Documents\\\\Office\\\\Projects\\\\common\")\n",
    "from utils import load_secrets\n",
    "load_secrets()\n"
   ]
  },
  {
   "cell_type": "code",
   "execution_count": 33,
   "id": "fb4e1d55-f7e2-4209-bc6c-27ac32e4112b",
   "metadata": {},
   "outputs": [],
   "source": [
    "from langchain_groq import ChatGroq\n",
    "\n",
    "llm = ChatGroq(\n",
    "    model=\"llama3-8b-8192\",\n",
    "    temperature=0,\n",
    "    max_tokens=None,\n",
    "    timeout=None,\n",
    "    max_retries=2,\n",
    "    model_kwargs={\"top_p\" : 0.9}\n",
    "    # other params...\n",
    ")"
   ]
  },
  {
   "cell_type": "code",
   "execution_count": 37,
   "id": "d0b82d1c-2450-48bc-9266-85f226c1e2a3",
   "metadata": {},
   "outputs": [],
   "source": [
    "from langchain_openai import ChatOpenAI\n",
    "llm = ChatOpenAI(model=\"gpt-4o-mini\", temperature=0, top_p = 0.9)"
   ]
  },
  {
   "cell_type": "code",
   "execution_count": null,
   "id": "0ecb809f-89b5-4815-9d6b-2cb0c3f5fbad",
   "metadata": {},
   "outputs": [],
   "source": [
    "from langchain_community.tools import DuckDuckGoSearchRun\n",
    "search_tool = DuckDuckGoSearchRun()"
   ]
  },
  {
   "cell_type": "code",
   "execution_count": 38,
   "id": "6a9e08ae-369c-4aa5-b080-a4ecc0ff4289",
   "metadata": {},
   "outputs": [],
   "source": [
    "from langchain_community.tools.tavily_search import TavilySearchResults\n",
    "\n",
    "search_tool = TavilySearchResults(max_results=2)"
   ]
  },
  {
   "cell_type": "code",
   "execution_count": 39,
   "id": "98898bbc-f74d-4b0e-b0f2-7cd25ad06a32",
   "metadata": {},
   "outputs": [
    {
     "name": "stdout",
     "output_type": "stream",
     "text": [
      "out : content='' additional_kwargs={'tool_calls': [{'id': 'call_sLrsDE9aA0EgOu7n7zMaL95K', 'function': {'arguments': '{\"query\":\"Persistent Systems site:toflers.com\"}', 'name': 'tavily_search_results_json'}, 'type': 'function'}], 'refusal': None} response_metadata={'token_usage': {'completion_tokens': 25, 'prompt_tokens': 95, 'total_tokens': 120}, 'model_name': 'gpt-4o-mini-2024-07-18', 'system_fingerprint': 'fp_507c9469a1', 'finish_reason': 'tool_calls', 'logprobs': None} id='run-f5645b78-7ec5-4ca9-bec7-d4f93d00a647-0' tool_calls=[{'name': 'tavily_search_results_json', 'args': {'query': 'Persistent Systems site:toflers.com'}, 'id': 'call_sLrsDE9aA0EgOu7n7zMaL95K', 'type': 'tool_call'}] usage_metadata={'input_tokens': 95, 'output_tokens': 25, 'total_tokens': 120}\n"
     ]
    }
   ],
   "source": [
    "\n",
    "llm_tool = llm.bind_tools([search_tool])\n",
    "\n",
    "out = llm_tool.invoke(\"Please provide the URL for the Persistent Systems page on the Tofler website.\")\n",
    "print(f\"out : {out}\")"
   ]
  },
  {
   "cell_type": "code",
   "execution_count": 40,
   "id": "4c8f0549-b4e7-4dd7-abc9-4791e311a03b",
   "metadata": {},
   "outputs": [],
   "source": [
    "from langchain_core.messages import HumanMessage\n",
    "\n",
    "messages = [HumanMessage(\"Please provide the URL for the Persistent Systems page on the Tofler website.\")]\n",
    "messages.append(out)"
   ]
  },
  {
   "cell_type": "code",
   "execution_count": 41,
   "id": "82de1ea8-41dd-4913-9c25-605c70580d46",
   "metadata": {},
   "outputs": [
    {
     "name": "stdout",
     "output_type": "stream",
     "text": [
      "tool_call:[{'name': 'tavily_search_results_json', 'args': {'query': 'Persistent Systems site:toflers.com'}, 'id': 'call_sLrsDE9aA0EgOu7n7zMaL95K', 'type': 'tool_call'}]\n",
      "tool_msg: content='[{\"url\": \"https://www.toflers.com/industry/healthcare\", \"content\": \"Our healthcare application development services make your product an integral element of the complete homecare and healthcare ecosystem. Our extensive exposure to working with doctors, patients, pharmacies, delivery systems, prescription systems, and EHR mechanisms makes customized development easy and error-free.\"}]' name='tavily_search_results_json' tool_call_id='call_sLrsDE9aA0EgOu7n7zMaL95K' artifact={'query': 'Persistent Systems site:toflers.com', 'follow_up_questions': None, 'answer': None, 'images': [], 'results': [{'title': 'Toflers: Mobile App Development, Software Development & Website Design ...', 'url': 'https://www.toflers.com/industry/healthcare', 'content': 'Our healthcare application development services make your product an integral element of the complete homecare and healthcare ecosystem. Our extensive exposure to working with doctors, patients, pharmacies, delivery systems, prescription systems, and EHR mechanisms makes customized development easy and error-free.', 'score': 0.037326887, 'raw_content': None}], 'response_time': 1.85}\n"
     ]
    }
   ],
   "source": [
    "print(f\"tool_call:{out.tool_calls}\")\n",
    "selected_tool = search_tool\n",
    "tool_msg = selected_tool.invoke(out.tool_calls[0])\n",
    "print (f\"tool_msg: {tool_msg}\")\n",
    "messages.append(tool_msg)"
   ]
  },
  {
   "cell_type": "code",
   "execution_count": 26,
   "id": "7d744a3e-348e-40ac-8b1f-5c264fd1871f",
   "metadata": {},
   "outputs": [
    {
     "name": "stdout",
     "output_type": "stream",
     "text": [
      "content='<tool-use>{\"tool_calls\":[]}</tool-use>' response_metadata={'token_usage': {'completion_tokens': 13, 'prompt_tokens': 1426, 'total_tokens': 1439, 'completion_time': 0.010833333, 'prompt_time': 0.215964599, 'queue_time': 0.0013545979999999846, 'total_time': 0.226797932}, 'model_name': 'llama3-8b-8192', 'system_fingerprint': 'fp_a97cfe35ae', 'finish_reason': 'stop', 'logprobs': None} id='run-808b78d1-2171-4768-956f-199350ecc371-0' usage_metadata={'input_tokens': 1426, 'output_tokens': 13, 'total_tokens': 1439}\n"
     ]
    }
   ],
   "source": [
    "final_msg = llm_tool.invoke(messages)\n",
    "print(final_msg)"
   ]
  },
  {
   "cell_type": "code",
   "execution_count": 27,
   "id": "b03683aa-6ccf-405a-97a5-27088038fe60",
   "metadata": {},
   "outputs": [
    {
     "data": {
      "text/plain": [
       "[HumanMessage(content='Please provide the URL for the Persistent Systems page on the Tofler website.'),\n",
       " AIMessage(content='', additional_kwargs={'tool_calls': [{'id': 'call_gnt7', 'function': {'arguments': '{\"query\":\"persistent systems tofler\"}', 'name': 'duckduckgo_search'}, 'type': 'function'}]}, response_metadata={'token_usage': {'completion_tokens': 72, 'prompt_tokens': 974, 'total_tokens': 1046, 'completion_time': 0.056658572, 'prompt_time': 0.146314235, 'queue_time': -0.255820414, 'total_time': 0.202972807}, 'model_name': 'llama3-8b-8192', 'system_fingerprint': 'fp_af05557ca2', 'finish_reason': 'tool_calls', 'logprobs': None}, id='run-d4090a3b-9890-43d8-aadf-6156337ccbeb-0', tool_calls=[{'name': 'duckduckgo_search', 'args': {'query': 'persistent systems tofler'}, 'id': 'call_gnt7', 'type': 'tool_call'}], usage_metadata={'input_tokens': 974, 'output_tokens': 72, 'total_tokens': 1046}),\n",
       " ToolMessage(content=\"The last reported AGM (Annual General Meeting) of Persistent Systems Limited, per our records, was held on 18 July, 2023. Persistent Systems Limited has ten directors - Anand Suresh Deshpande, Praveen Purushottam Kadle, and others. The Corporate Identification Number (CIN) of Persistent Systems Limited is L72300PN1990PLC056696. Tofler, TWS Systems Private Limited and its officers respect the Intellectual Property Rights of all people. Tofler makes no claim of ownership or affiliation with any trademark (REGISTERED OR UNREGISTERED) that forms part of any Company/LLP name listed on this page. Trademarks, if any, listed on this page belong to their respective owners ... Persistent Systems (BSE & NSE: PERSISTENT) is a global services and solutions company delivering Digital Engineering and Enterprise Modernization to businesses across industries. With over 23,500 employees located in 19 countries, the Company is committed to innovation and client success. Persistent offers a comprehensive suite of services ... Persistent Systems share price jumped 10% to hit a new 52-week high at Rs 8,716 in Tuesday's trade on BSE after the firm reported a 20.2% growth in net profit to Rs 286.1 crore year-on-year (YoY) for the December quarter, driven by a strong order book in Q3 FY24. Its consolidated revenue for the December quarter stood at Rs 2,498.2 crore, a jump of 15.2% from the same quarter of the previous year. Persistent Systems (Global) +91 93237 42377. aarti_somaiya@persistent.com. Emma Handler. Persistent Systems (Global) +1 617 633 1635. emma_handler@persistent.com. . Persistent announced the Company's audited financial results for the quarter and year ended March 31, 2024, as approved by the Board of Directors.\", name='duckduckgo_search', tool_call_id='call_gnt7')]"
      ]
     },
     "execution_count": 27,
     "metadata": {},
     "output_type": "execute_result"
    }
   ],
   "source": [
    "messages"
   ]
  },
  {
   "cell_type": "code",
   "execution_count": null,
   "id": "a0732b9f-30b3-45f6-93cb-149fa7196837",
   "metadata": {},
   "outputs": [],
   "source": []
  },
  {
   "cell_type": "code",
   "execution_count": 30,
   "id": "b6d647c0-a8c7-4e4d-9261-d1e56701f793",
   "metadata": {},
   "outputs": [
    {
     "data": {
      "text/plain": [
       "\"OVERVIEW - PERSISTENT SYSTEMS LIMITED. Persistent Systems Limited is a listed public company incorporated on 30 May, 1990. It is classified as a public ... Missing: URL | Show results with:URL. Persistent Systems is a trusted Digital Engineering and Enterprise Modernization partner for global market leaders across Industries. Missing: Tofler | Show results with:Tofler. Check Persistent Systems And Solutions Limited registration details online. Get financial highlights, company network & industry details. Missing: URL | Show results with:URL. Founded by Herbert B. Rubens and David Holmer, Persistent Systems offers a secure and 'true'' mobile ad-hoc networking system with its Wave Relay product ... Missing: URL Tofler. Get detailed financial reports of Persistent Systems Limited including EBITDA, Assets, Liabilities & more on Tofler. Sign up for detailed balance sheet of ... Missing: URL | Show results with:URL. Persistent Systems is a global solutions company having technical expertise and industry experience of 30 years providing digital business transformation ... Missing: URL Tofler. Please fill out your information below to have our Sales Representative reach out to you within 1 business day. Subject *. Missing: Tofler | Show results with:Tofler. Get detailed financial reports of Persistent Networks Private Limited including EBITDA, Assets, Liabilities & more on Tofler. Previous investigation has suggested that patients undergoing primary PCI during off-hours are more likely to have adverse cardiac events than routine-hours ... Read about Investor Relations at Persistent Systems. Read recent updates on financial results, stocks, annual reports and other investors news at a glance. Missing: Tofler | Show results with:Tofler.\""
      ]
     },
     "execution_count": 30,
     "metadata": {},
     "output_type": "execute_result"
    }
   ],
   "source": [
    "from langchain.agents import AgentType, initialize_agent\n",
    "from langchain_community.utilities import GoogleSerperAPIWrapper\n",
    "from langchain_core.tools import Tool\n",
    "from langchain_openai import OpenAI\n",
    "\n",
    "llm = OpenAI(temperature=0)\n",
    "search = GoogleSerperAPIWrapper()\n",
    "search.run(\"Please provide the URL for the Persistent Systems page on the Tofler website.\")\n",
    "# tools = [\n",
    "#     Tool(\n",
    "#         name=\"Intermediate Answer\",\n",
    "#         func=search.run,\n",
    "#         description=\"useful for when you need to ask with search\",\n",
    "#     )\n",
    "# ]\n",
    "\n",
    "# self_ask_with_search = initialize_agent(\n",
    "#     tools, llm, agent=AgentType.SELF_ASK_WITH_SEARCH, verbose=True, handle_parsing_errors=True\n",
    "# )\n",
    "# self_ask_with_search.run(\n",
    "#     \"Please provide the URL for the Persistent Systems page on the Tofler website.\"\n",
    "# )"
   ]
  },
  {
   "cell_type": "code",
   "execution_count": null,
   "id": "fbbf69c2-dfec-4226-9c23-9d61fee51356",
   "metadata": {},
   "outputs": [],
   "source": []
  },
  {
   "cell_type": "code",
   "execution_count": null,
   "id": "31705d8a-9ef6-4fa2-893c-76f9da95a2b1",
   "metadata": {},
   "outputs": [],
   "source": []
  },
  {
   "cell_type": "code",
   "execution_count": null,
   "id": "8ca05207-759b-4beb-ad4c-41f6f6f752d9",
   "metadata": {},
   "outputs": [],
   "source": []
  },
  {
   "cell_type": "code",
   "execution_count": null,
   "id": "f78d1641-b1aa-46bc-9bdd-7e8ca07708ce",
   "metadata": {},
   "outputs": [],
   "source": []
  }
 ],
 "metadata": {
  "kernelspec": {
   "display_name": "Python 3 (ipykernel)",
   "language": "python",
   "name": "python3"
  },
  "language_info": {
   "codemirror_mode": {
    "name": "ipython",
    "version": 3
   },
   "file_extension": ".py",
   "mimetype": "text/x-python",
   "name": "python",
   "nbconvert_exporter": "python",
   "pygments_lexer": "ipython3",
   "version": "3.12.4"
  }
 },
 "nbformat": 4,
 "nbformat_minor": 5
}
